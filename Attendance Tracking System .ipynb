{
  "metadata": {
    "kernelspec": {
      "name": "python",
      "display_name": "Python (Pyodide)",
      "language": "python"
    },
    "language_info": {
      "codemirror_mode": {
        "name": "python",
        "version": 3
      },
      "file_extension": ".py",
      "mimetype": "text/x-python",
      "name": "python",
      "nbconvert_exporter": "python",
      "pygments_lexer": "ipython3",
      "version": "3.8"
    }
  },
  "nbformat_minor": 4,
  "nbformat": 4,
  "cells": [
    {
      "cell_type": "markdown",
      "source": "# Attendance Tracking System - Jupyter Notebook\n\n## Introduction\nThe Attendance Tracking System automates the process of tracking student attendance based on their device connections. This notebook will explain the implementation of the system step by step.\n\n## Step 1: Imports\nFirst, we import the necessary modules for our project.",
      "metadata": {}
    },
    {
      "cell_type": "code",
      "source": "python\nimport json\nfrom flask import Flask, render_template\nfrom datetime import datetime",
      "metadata": {
        "trusted": true
      },
      "outputs": [],
      "execution_count": null
    },
    {
      "cell_type": "markdown",
      "source": "## Step 2: Define Student Class\nWe define a `Student` class to represent student objects. Each student has attributes such as name, roll number, and MAC ID.",
      "metadata": {}
    },
    {
      "cell_type": "code",
      "source": "\nclass Student:\n    def __init__(self, name, roll_number, mac_id):\n        self.name = name\n        self.roll_number = roll_number\n        self.mac_id = mac_id\n\n    def to_dict(self):\n        return {\n            'name': self.name,\n            'roll_number': self.roll_number,\n            'mac_id': self.mac_id\n        }\n",
      "metadata": {
        "trusted": true
      },
      "outputs": [],
      "execution_count": null
    },
    {
      "cell_type": "markdown",
      "source": "## Step 3: Load Student Data\nWe create a function `load_students` to load student data from a JSON file (`students.json`). The function returns a list of `Student` objects.\n",
      "metadata": {}
    },
    {
      "cell_type": "code",
      "source": "def load_students(filename):\n    try:\n        with open(filename, 'r') as f:\n            data = json.load(f)\n            student_data = data.get(\"students\", [])\n            students = [Student(student['name'], student['roll_number'], student['mac_id']) for student in student_data]\n        print(\"Student details loaded successfully\")\n        return students\n    except FileNotFoundError:\n        print(f\"Error: File '{filename}' not found\")\n    except Exception as e:\n        print(\"Error loading student details:\", e)\n        return None",
      "metadata": {
        "trusted": true
      },
      "outputs": [],
      "execution_count": null
    },
    {
      "cell_type": "markdown",
      "source": "## Step 4: Get Connected Devices\nWe create a function `get_connected_devices` to simulate retrieving connected devices. For demonstration purposes, we return a dummy list of connected devices.",
      "metadata": {}
    },
    {
      "cell_type": "code",
      "source": "def get_connected_devices():\n    print(\"Step 1: Getting connected devices...\")\n    connected_devices = ['6c:03:b5:94:9f:f2']  # Dummy data for demonstration\n    print(\"Connected devices retrieved\")\n    return connected_devices",
      "metadata": {
        "trusted": true
      },
      "outputs": [],
      "execution_count": null
    },
    {
      "cell_type": "markdown",
      "source": "## Step 5: Save Device Details\nWe create a function `save_device_details` to save the list of connected devices to a JSON file (`devices.json`).\n",
      "metadata": {}
    },
    {
      "cell_type": "code",
      "source": "def save_device_details(devices):\n    print(\"Step 2: Saving device details...\")\n    try:\n        with open('devices.json', 'w') as f:\n            json.dump(devices, f)\n        print(\"Device details saved to 'devices.json'\")\n    except Exception as e:\n        print(\"Error saving device details:\", e)",
      "metadata": {
        "trusted": true
      },
      "outputs": [],
      "execution_count": null
    },
    {
      "cell_type": "markdown",
      "source": "## Step 6: Verify Attendance\nWe create a function `verify_attendance` to verify attendance based on connected devices and student data. We match the MAC IDs of connected devices with the MAC IDs of students and record the attendance accordingly.",
      "metadata": {}
    },
    {
      "cell_type": "code",
      "source": "def verify_attendance(students, devices):\n    print(\"Step 3: Verifying attendance...\")\n    if students is None:\n        print(\"Cannot verify attendance. Student details not loaded.\")\n        return\n    \n    present_students = []\n    absent_students = []\n    \n    for student in students:\n        if student.mac_id in devices:\n            connection_time = datetime.now().strftime(\"%Y-%m-%d %H:%M:%S\")\n            student_info = {\n                'name': student.name,\n                'roll_number': student.roll_number,\n                'mac_id': student.mac_id,\n                'connection_time': connection_time\n            }\n            present_students.append(student_info)\n        else:\n            absent_students.append(student)\n                \n    with open('present.json', 'w') as f:\n        json.dump(present_students, f, default=str)\n    print(\"Present students saved to 'present.json'\")\n    \n    with open('absent.json', 'w') as f:\n        json.dump([s.__dict__ for s in absent_students], f, default=str)\n    print(\"Absent students saved to 'absent.json'\")",
      "metadata": {
        "trusted": true
      },
      "outputs": [],
      "execution_count": null
    },
    {
      "cell_type": "markdown",
      "source": "## Step 7: Flask Application\nWe define a Flask application to handle HTTP requests and render HTML templates. The main route (`/`) loads student data, retrieves connected devices, and verifies attendance.\n",
      "metadata": {}
    },
    {
      "cell_type": "code",
      "source": "app = Flask(__name__)\n\n@app.route('/')\ndef index():\n    students = load_students('students.json')\n    connected_devices = get_connected_devices()\n    \n    if students is not None and connected_devices is not None:\n        verify_attendance(students, connected_devices)\n    else:\n        print(\"Cannot verify attendance. Some data is missing.\")\n    \n    with open('present.json', 'r') as f:\n        present_data = json.load(f)\n    with open('absent.json', 'r') as f:\n        absent_data = json.load(f)\n\n    return render_template('index.html', present_data=present_data, absent_data=absent_data)\n\nif __name__ == '__main__':\n    app.run(debug",
      "metadata": {
        "trusted": true
      },
      "outputs": [],
      "execution_count": null
    }
  ]
}